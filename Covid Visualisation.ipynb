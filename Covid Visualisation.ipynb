{
 "cells": [
  {
   "cell_type": "markdown",
   "id": "104a6a0b",
   "metadata": {},
   "source": [
    "# COVID information on the day of January, 3rd, 2022."
   ]
  },
  {
   "cell_type": "code",
   "execution_count": 1,
   "id": "3db57987",
   "metadata": {},
   "outputs": [],
   "source": [
    "import pandas as pd\n",
    "from matplotlib import pyplot as plt"
   ]
  },
  {
   "cell_type": "code",
   "execution_count": 2,
   "id": "7cbf6a58",
   "metadata": {},
   "outputs": [],
   "source": [
    "df = pd.read_csv('timeseries.csv')"
   ]
  },
  {
   "cell_type": "code",
   "execution_count": 3,
   "id": "4a5643ad",
   "metadata": {},
   "outputs": [
    {
     "data": {
      "text/html": [
       "<div>\n",
       "<style scoped>\n",
       "    .dataframe tbody tr th:only-of-type {\n",
       "        vertical-align: middle;\n",
       "    }\n",
       "\n",
       "    .dataframe tbody tr th {\n",
       "        vertical-align: top;\n",
       "    }\n",
       "\n",
       "    .dataframe thead th {\n",
       "        text-align: right;\n",
       "    }\n",
       "</style>\n",
       "<table border=\"1\" class=\"dataframe\">\n",
       "  <thead>\n",
       "    <tr style=\"text-align: right;\">\n",
       "      <th></th>\n",
       "      <th>date</th>\n",
       "      <th>country</th>\n",
       "      <th>state</th>\n",
       "      <th>county</th>\n",
       "      <th>fips</th>\n",
       "      <th>lat</th>\n",
       "      <th>long</th>\n",
       "      <th>locationId</th>\n",
       "      <th>actuals.cases</th>\n",
       "      <th>actuals.deaths</th>\n",
       "      <th>...</th>\n",
       "      <th>metrics.infectionRate</th>\n",
       "      <th>metrics.infectionRateCI90</th>\n",
       "      <th>metrics.icuHeadroomRatio</th>\n",
       "      <th>metrics.icuHeadroomDetails</th>\n",
       "      <th>metrics.icuCapacityRatio</th>\n",
       "      <th>riskLevels.overall</th>\n",
       "      <th>metrics.vaccinationsInitiatedRatio</th>\n",
       "      <th>metrics.vaccinationsCompletedRatio</th>\n",
       "      <th>actuals.newDeaths</th>\n",
       "      <th>actuals.vaccinesAdministered</th>\n",
       "    </tr>\n",
       "  </thead>\n",
       "  <tbody>\n",
       "    <tr>\n",
       "      <th>0</th>\n",
       "      <td>2020-03-02</td>\n",
       "      <td>US</td>\n",
       "      <td>PA</td>\n",
       "      <td>NaN</td>\n",
       "      <td>42</td>\n",
       "      <td>NaN</td>\n",
       "      <td>NaN</td>\n",
       "      <td>iso1:us#iso2:us-pa</td>\n",
       "      <td>NaN</td>\n",
       "      <td>NaN</td>\n",
       "      <td>...</td>\n",
       "      <td>NaN</td>\n",
       "      <td>NaN</td>\n",
       "      <td>NaN</td>\n",
       "      <td>NaN</td>\n",
       "      <td>NaN</td>\n",
       "      <td>0</td>\n",
       "      <td>NaN</td>\n",
       "      <td>NaN</td>\n",
       "      <td>NaN</td>\n",
       "      <td>NaN</td>\n",
       "    </tr>\n",
       "    <tr>\n",
       "      <th>1</th>\n",
       "      <td>2020-03-03</td>\n",
       "      <td>US</td>\n",
       "      <td>PA</td>\n",
       "      <td>NaN</td>\n",
       "      <td>42</td>\n",
       "      <td>NaN</td>\n",
       "      <td>NaN</td>\n",
       "      <td>iso1:us#iso2:us-pa</td>\n",
       "      <td>NaN</td>\n",
       "      <td>NaN</td>\n",
       "      <td>...</td>\n",
       "      <td>NaN</td>\n",
       "      <td>NaN</td>\n",
       "      <td>NaN</td>\n",
       "      <td>NaN</td>\n",
       "      <td>NaN</td>\n",
       "      <td>0</td>\n",
       "      <td>NaN</td>\n",
       "      <td>NaN</td>\n",
       "      <td>NaN</td>\n",
       "      <td>NaN</td>\n",
       "    </tr>\n",
       "    <tr>\n",
       "      <th>2</th>\n",
       "      <td>2020-03-04</td>\n",
       "      <td>US</td>\n",
       "      <td>PA</td>\n",
       "      <td>NaN</td>\n",
       "      <td>42</td>\n",
       "      <td>NaN</td>\n",
       "      <td>NaN</td>\n",
       "      <td>iso1:us#iso2:us-pa</td>\n",
       "      <td>NaN</td>\n",
       "      <td>NaN</td>\n",
       "      <td>...</td>\n",
       "      <td>NaN</td>\n",
       "      <td>NaN</td>\n",
       "      <td>NaN</td>\n",
       "      <td>NaN</td>\n",
       "      <td>NaN</td>\n",
       "      <td>0</td>\n",
       "      <td>NaN</td>\n",
       "      <td>NaN</td>\n",
       "      <td>NaN</td>\n",
       "      <td>NaN</td>\n",
       "    </tr>\n",
       "    <tr>\n",
       "      <th>3</th>\n",
       "      <td>2020-03-05</td>\n",
       "      <td>US</td>\n",
       "      <td>PA</td>\n",
       "      <td>NaN</td>\n",
       "      <td>42</td>\n",
       "      <td>NaN</td>\n",
       "      <td>NaN</td>\n",
       "      <td>iso1:us#iso2:us-pa</td>\n",
       "      <td>NaN</td>\n",
       "      <td>NaN</td>\n",
       "      <td>...</td>\n",
       "      <td>NaN</td>\n",
       "      <td>NaN</td>\n",
       "      <td>NaN</td>\n",
       "      <td>NaN</td>\n",
       "      <td>NaN</td>\n",
       "      <td>0</td>\n",
       "      <td>NaN</td>\n",
       "      <td>NaN</td>\n",
       "      <td>NaN</td>\n",
       "      <td>NaN</td>\n",
       "    </tr>\n",
       "    <tr>\n",
       "      <th>4</th>\n",
       "      <td>2020-03-06</td>\n",
       "      <td>US</td>\n",
       "      <td>PA</td>\n",
       "      <td>NaN</td>\n",
       "      <td>42</td>\n",
       "      <td>NaN</td>\n",
       "      <td>NaN</td>\n",
       "      <td>iso1:us#iso2:us-pa</td>\n",
       "      <td>2.0</td>\n",
       "      <td>0.0</td>\n",
       "      <td>...</td>\n",
       "      <td>NaN</td>\n",
       "      <td>NaN</td>\n",
       "      <td>NaN</td>\n",
       "      <td>NaN</td>\n",
       "      <td>NaN</td>\n",
       "      <td>0</td>\n",
       "      <td>NaN</td>\n",
       "      <td>NaN</td>\n",
       "      <td>NaN</td>\n",
       "      <td>NaN</td>\n",
       "    </tr>\n",
       "  </tbody>\n",
       "</table>\n",
       "<p>5 rows × 39 columns</p>\n",
       "</div>"
      ],
      "text/plain": [
       "         date country state  county  fips  lat  long          locationId  \\\n",
       "0  2020-03-02      US    PA     NaN    42  NaN   NaN  iso1:us#iso2:us-pa   \n",
       "1  2020-03-03      US    PA     NaN    42  NaN   NaN  iso1:us#iso2:us-pa   \n",
       "2  2020-03-04      US    PA     NaN    42  NaN   NaN  iso1:us#iso2:us-pa   \n",
       "3  2020-03-05      US    PA     NaN    42  NaN   NaN  iso1:us#iso2:us-pa   \n",
       "4  2020-03-06      US    PA     NaN    42  NaN   NaN  iso1:us#iso2:us-pa   \n",
       "\n",
       "   actuals.cases  actuals.deaths  ...  metrics.infectionRate  \\\n",
       "0            NaN             NaN  ...                    NaN   \n",
       "1            NaN             NaN  ...                    NaN   \n",
       "2            NaN             NaN  ...                    NaN   \n",
       "3            NaN             NaN  ...                    NaN   \n",
       "4            2.0             0.0  ...                    NaN   \n",
       "\n",
       "   metrics.infectionRateCI90 metrics.icuHeadroomRatio  \\\n",
       "0                        NaN                      NaN   \n",
       "1                        NaN                      NaN   \n",
       "2                        NaN                      NaN   \n",
       "3                        NaN                      NaN   \n",
       "4                        NaN                      NaN   \n",
       "\n",
       "   metrics.icuHeadroomDetails  metrics.icuCapacityRatio  riskLevels.overall  \\\n",
       "0                         NaN                       NaN                   0   \n",
       "1                         NaN                       NaN                   0   \n",
       "2                         NaN                       NaN                   0   \n",
       "3                         NaN                       NaN                   0   \n",
       "4                         NaN                       NaN                   0   \n",
       "\n",
       "   metrics.vaccinationsInitiatedRatio  metrics.vaccinationsCompletedRatio  \\\n",
       "0                                 NaN                                 NaN   \n",
       "1                                 NaN                                 NaN   \n",
       "2                                 NaN                                 NaN   \n",
       "3                                 NaN                                 NaN   \n",
       "4                                 NaN                                 NaN   \n",
       "\n",
       "   actuals.newDeaths actuals.vaccinesAdministered  \n",
       "0                NaN                          NaN  \n",
       "1                NaN                          NaN  \n",
       "2                NaN                          NaN  \n",
       "3                NaN                          NaN  \n",
       "4                NaN                          NaN  \n",
       "\n",
       "[5 rows x 39 columns]"
      ]
     },
     "execution_count": 3,
     "metadata": {},
     "output_type": "execute_result"
    }
   ],
   "source": [
    "df.head()"
   ]
  },
  {
   "cell_type": "markdown",
   "id": "31c30a0c",
   "metadata": {},
   "source": [
    "# number of duplicate entries."
   ]
  },
  {
   "cell_type": "code",
   "execution_count": 4,
   "id": "4d378371",
   "metadata": {},
   "outputs": [
    {
     "data": {
      "text/html": [
       "<div>\n",
       "<style scoped>\n",
       "    .dataframe tbody tr th:only-of-type {\n",
       "        vertical-align: middle;\n",
       "    }\n",
       "\n",
       "    .dataframe tbody tr th {\n",
       "        vertical-align: top;\n",
       "    }\n",
       "\n",
       "    .dataframe thead th {\n",
       "        text-align: right;\n",
       "    }\n",
       "</style>\n",
       "<table border=\"1\" class=\"dataframe\">\n",
       "  <thead>\n",
       "    <tr style=\"text-align: right;\">\n",
       "      <th></th>\n",
       "      <th>date</th>\n",
       "      <th>country</th>\n",
       "      <th>state</th>\n",
       "      <th>county</th>\n",
       "      <th>fips</th>\n",
       "      <th>lat</th>\n",
       "      <th>long</th>\n",
       "      <th>locationId</th>\n",
       "      <th>actuals.cases</th>\n",
       "      <th>actuals.deaths</th>\n",
       "      <th>...</th>\n",
       "      <th>metrics.infectionRate</th>\n",
       "      <th>metrics.infectionRateCI90</th>\n",
       "      <th>metrics.icuHeadroomRatio</th>\n",
       "      <th>metrics.icuHeadroomDetails</th>\n",
       "      <th>metrics.icuCapacityRatio</th>\n",
       "      <th>riskLevels.overall</th>\n",
       "      <th>metrics.vaccinationsInitiatedRatio</th>\n",
       "      <th>metrics.vaccinationsCompletedRatio</th>\n",
       "      <th>actuals.newDeaths</th>\n",
       "      <th>actuals.vaccinesAdministered</th>\n",
       "    </tr>\n",
       "  </thead>\n",
       "  <tbody>\n",
       "    <tr>\n",
       "      <th>63</th>\n",
       "      <td>2020-03-02</td>\n",
       "      <td>US</td>\n",
       "      <td>PA</td>\n",
       "      <td>NaN</td>\n",
       "      <td>42</td>\n",
       "      <td>NaN</td>\n",
       "      <td>NaN</td>\n",
       "      <td>iso1:us#iso2:us-pa</td>\n",
       "      <td>NaN</td>\n",
       "      <td>NaN</td>\n",
       "      <td>...</td>\n",
       "      <td>NaN</td>\n",
       "      <td>NaN</td>\n",
       "      <td>NaN</td>\n",
       "      <td>NaN</td>\n",
       "      <td>NaN</td>\n",
       "      <td>0</td>\n",
       "      <td>NaN</td>\n",
       "      <td>NaN</td>\n",
       "      <td>NaN</td>\n",
       "      <td>NaN</td>\n",
       "    </tr>\n",
       "    <tr>\n",
       "      <th>64</th>\n",
       "      <td>2020-03-03</td>\n",
       "      <td>US</td>\n",
       "      <td>PA</td>\n",
       "      <td>NaN</td>\n",
       "      <td>42</td>\n",
       "      <td>NaN</td>\n",
       "      <td>NaN</td>\n",
       "      <td>iso1:us#iso2:us-pa</td>\n",
       "      <td>NaN</td>\n",
       "      <td>NaN</td>\n",
       "      <td>...</td>\n",
       "      <td>NaN</td>\n",
       "      <td>NaN</td>\n",
       "      <td>NaN</td>\n",
       "      <td>NaN</td>\n",
       "      <td>NaN</td>\n",
       "      <td>0</td>\n",
       "      <td>NaN</td>\n",
       "      <td>NaN</td>\n",
       "      <td>NaN</td>\n",
       "      <td>NaN</td>\n",
       "    </tr>\n",
       "    <tr>\n",
       "      <th>65</th>\n",
       "      <td>2020-03-04</td>\n",
       "      <td>US</td>\n",
       "      <td>PA</td>\n",
       "      <td>NaN</td>\n",
       "      <td>42</td>\n",
       "      <td>NaN</td>\n",
       "      <td>NaN</td>\n",
       "      <td>iso1:us#iso2:us-pa</td>\n",
       "      <td>NaN</td>\n",
       "      <td>NaN</td>\n",
       "      <td>...</td>\n",
       "      <td>NaN</td>\n",
       "      <td>NaN</td>\n",
       "      <td>NaN</td>\n",
       "      <td>NaN</td>\n",
       "      <td>NaN</td>\n",
       "      <td>0</td>\n",
       "      <td>NaN</td>\n",
       "      <td>NaN</td>\n",
       "      <td>NaN</td>\n",
       "      <td>NaN</td>\n",
       "    </tr>\n",
       "    <tr>\n",
       "      <th>66</th>\n",
       "      <td>2020-03-05</td>\n",
       "      <td>US</td>\n",
       "      <td>PA</td>\n",
       "      <td>NaN</td>\n",
       "      <td>42</td>\n",
       "      <td>NaN</td>\n",
       "      <td>NaN</td>\n",
       "      <td>iso1:us#iso2:us-pa</td>\n",
       "      <td>NaN</td>\n",
       "      <td>NaN</td>\n",
       "      <td>...</td>\n",
       "      <td>NaN</td>\n",
       "      <td>NaN</td>\n",
       "      <td>NaN</td>\n",
       "      <td>NaN</td>\n",
       "      <td>NaN</td>\n",
       "      <td>0</td>\n",
       "      <td>NaN</td>\n",
       "      <td>NaN</td>\n",
       "      <td>NaN</td>\n",
       "      <td>NaN</td>\n",
       "    </tr>\n",
       "    <tr>\n",
       "      <th>67</th>\n",
       "      <td>2020-03-06</td>\n",
       "      <td>US</td>\n",
       "      <td>PA</td>\n",
       "      <td>NaN</td>\n",
       "      <td>42</td>\n",
       "      <td>NaN</td>\n",
       "      <td>NaN</td>\n",
       "      <td>iso1:us#iso2:us-pa</td>\n",
       "      <td>2.0</td>\n",
       "      <td>0.0</td>\n",
       "      <td>...</td>\n",
       "      <td>NaN</td>\n",
       "      <td>NaN</td>\n",
       "      <td>NaN</td>\n",
       "      <td>NaN</td>\n",
       "      <td>NaN</td>\n",
       "      <td>0</td>\n",
       "      <td>NaN</td>\n",
       "      <td>NaN</td>\n",
       "      <td>NaN</td>\n",
       "      <td>NaN</td>\n",
       "    </tr>\n",
       "  </tbody>\n",
       "</table>\n",
       "<p>5 rows × 39 columns</p>\n",
       "</div>"
      ],
      "text/plain": [
       "          date country state  county  fips  lat  long          locationId  \\\n",
       "63  2020-03-02      US    PA     NaN    42  NaN   NaN  iso1:us#iso2:us-pa   \n",
       "64  2020-03-03      US    PA     NaN    42  NaN   NaN  iso1:us#iso2:us-pa   \n",
       "65  2020-03-04      US    PA     NaN    42  NaN   NaN  iso1:us#iso2:us-pa   \n",
       "66  2020-03-05      US    PA     NaN    42  NaN   NaN  iso1:us#iso2:us-pa   \n",
       "67  2020-03-06      US    PA     NaN    42  NaN   NaN  iso1:us#iso2:us-pa   \n",
       "\n",
       "    actuals.cases  actuals.deaths  ...  metrics.infectionRate  \\\n",
       "63            NaN             NaN  ...                    NaN   \n",
       "64            NaN             NaN  ...                    NaN   \n",
       "65            NaN             NaN  ...                    NaN   \n",
       "66            NaN             NaN  ...                    NaN   \n",
       "67            2.0             0.0  ...                    NaN   \n",
       "\n",
       "    metrics.infectionRateCI90 metrics.icuHeadroomRatio  \\\n",
       "63                        NaN                      NaN   \n",
       "64                        NaN                      NaN   \n",
       "65                        NaN                      NaN   \n",
       "66                        NaN                      NaN   \n",
       "67                        NaN                      NaN   \n",
       "\n",
       "    metrics.icuHeadroomDetails  metrics.icuCapacityRatio  riskLevels.overall  \\\n",
       "63                         NaN                       NaN                   0   \n",
       "64                         NaN                       NaN                   0   \n",
       "65                         NaN                       NaN                   0   \n",
       "66                         NaN                       NaN                   0   \n",
       "67                         NaN                       NaN                   0   \n",
       "\n",
       "    metrics.vaccinationsInitiatedRatio  metrics.vaccinationsCompletedRatio  \\\n",
       "63                                 NaN                                 NaN   \n",
       "64                                 NaN                                 NaN   \n",
       "65                                 NaN                                 NaN   \n",
       "66                                 NaN                                 NaN   \n",
       "67                                 NaN                                 NaN   \n",
       "\n",
       "    actuals.newDeaths actuals.vaccinesAdministered  \n",
       "63                NaN                          NaN  \n",
       "64                NaN                          NaN  \n",
       "65                NaN                          NaN  \n",
       "66                NaN                          NaN  \n",
       "67                NaN                          NaN  \n",
       "\n",
       "[5 rows x 39 columns]"
      ]
     },
     "execution_count": 4,
     "metadata": {},
     "output_type": "execute_result"
    }
   ],
   "source": [
    "df[df.duplicated()].head()"
   ]
  },
  {
   "cell_type": "code",
   "execution_count": 5,
   "id": "468a0a9a",
   "metadata": {},
   "outputs": [
    {
     "data": {
      "text/plain": [
       "20"
      ]
     },
     "execution_count": 5,
     "metadata": {},
     "output_type": "execute_result"
    }
   ],
   "source": [
    "len(df[df.duplicated()])"
   ]
  },
  {
   "cell_type": "markdown",
   "id": "0287bf1c",
   "metadata": {},
   "source": [
    "# Cumulative confirmed or suspected cases."
   ]
  },
  {
   "cell_type": "code",
   "execution_count": 6,
   "id": "19551315",
   "metadata": {},
   "outputs": [
    {
     "data": {
      "text/plain": [
       "226827928.0"
      ]
     },
     "execution_count": 6,
     "metadata": {},
     "output_type": "execute_result"
    }
   ],
   "source": [
    "df['actuals.cases'].sum()"
   ]
  },
  {
   "cell_type": "markdown",
   "id": "b3c2235e",
   "metadata": {},
   "source": [
    "# Cumulative deaths that are suspected or confirmed."
   ]
  },
  {
   "cell_type": "code",
   "execution_count": 7,
   "id": "563519f4",
   "metadata": {},
   "outputs": [
    {
     "data": {
      "text/plain": [
       "6346700.0"
      ]
     },
     "execution_count": 7,
     "metadata": {},
     "output_type": "execute_result"
    }
   ],
   "source": [
    "df['actuals.deaths'].sum()"
   ]
  },
  {
   "cell_type": "markdown",
   "id": "f2957dba",
   "metadata": {},
   "source": [
    "# New deaths."
   ]
  },
  {
   "cell_type": "code",
   "execution_count": 8,
   "id": "947c1ad4",
   "metadata": {},
   "outputs": [
    {
     "data": {
      "text/plain": [
       "27827.0"
      ]
     },
     "execution_count": 8,
     "metadata": {},
     "output_type": "execute_result"
    }
   ],
   "source": [
    "df['actuals.newDeaths'].sum()"
   ]
  },
  {
   "cell_type": "markdown",
   "id": "349fa6f5",
   "metadata": {},
   "source": [
    "# New cases."
   ]
  },
  {
   "cell_type": "code",
   "execution_count": 9,
   "id": "c96c8295",
   "metadata": {},
   "outputs": [
    {
     "data": {
      "text/plain": [
       "1222533.0"
      ]
     },
     "execution_count": 9,
     "metadata": {},
     "output_type": "execute_result"
    }
   ],
   "source": [
    "df['actuals.newCases'].sum()"
   ]
  },
  {
   "cell_type": "markdown",
   "id": "1d2c0d2f",
   "metadata": {},
   "source": [
    "# Cases per 100k population calculated using a 7-day rolling average."
   ]
  },
  {
   "cell_type": "code",
   "execution_count": 10,
   "id": "a2ce4585",
   "metadata": {},
   "outputs": [
    {
     "data": {
      "text/plain": [
       "54.59"
      ]
     },
     "execution_count": 10,
     "metadata": {},
     "output_type": "execute_result"
    }
   ],
   "source": [
    "df['metrics.infectionRateCI90'].sum()"
   ]
  },
  {
   "cell_type": "markdown",
   "id": "d1a6188c",
   "metadata": {},
   "source": [
    "# Ratio of population that has completed vaccination."
   ]
  },
  {
   "cell_type": "code",
   "execution_count": 11,
   "id": "ee5a8fdb",
   "metadata": {},
   "outputs": [
    {
     "data": {
      "text/plain": [
       "34.714999999999996"
      ]
     },
     "execution_count": 11,
     "metadata": {},
     "output_type": "execute_result"
    }
   ],
   "source": [
    "df['metrics.vaccinationsCompletedRatio'].sum()"
   ]
  },
  {
   "cell_type": "markdown",
   "id": "aaf5277b",
   "metadata": {},
   "source": [
    "# Ratio of population that has initiated vaccination."
   ]
  },
  {
   "cell_type": "code",
   "execution_count": 12,
   "id": "5ed83989",
   "metadata": {},
   "outputs": [
    {
     "data": {
      "text/plain": [
       "53.867999999999995"
      ]
     },
     "execution_count": 12,
     "metadata": {},
     "output_type": "execute_result"
    }
   ],
   "source": [
    "df['metrics.vaccinationsInitiatedRatio'].sum()"
   ]
  },
  {
   "cell_type": "markdown",
   "id": "e54e02f0",
   "metadata": {},
   "source": [
    "# Graph"
   ]
  },
  {
   "cell_type": "code",
   "execution_count": 13,
   "id": "8b3fac1c",
   "metadata": {},
   "outputs": [
    {
     "data": {
      "text/plain": [
       "<AxesSubplot:xlabel='actuals.cases'>"
      ]
     },
     "execution_count": 13,
     "metadata": {},
     "output_type": "execute_result"
    },
    {
     "data": {
      "image/png": "[encoded data removed]",
      "text/plain": [
       "<Figure size 432x288 with 1 Axes>"
      ]
     },
     "metadata": {
      "needs_background": "light"
     },
     "output_type": "display_data"
    }
   ],
   "source": [
    "df.plot(kind='line',x='actuals.cases',y='actuals.vaccinesAdministered')"
   ]
  },
  {
   "cell_type": "code",
   "execution_count": null,
   "id": "b26b0083",
   "metadata": {},
   "outputs": [],
   "source": []
  }
 ],
 "metadata": {
  "kernelspec": {
   "display_name": "Python 3",
   "language": "python",
   "name": "python3"
  },
  "language_info": {
   "codemirror_mode": {
    "name": "ipython",
    "version": 3
   },
   "file_extension": ".py",
   "mimetype": "text/x-python",
   "name": "python",
   "nbconvert_exporter": "python",
   "pygments_lexer": "ipython3",
   "version": "3.8.8"
  }
 },
 "nbformat": 4,
 "nbformat_minor": 5
}
